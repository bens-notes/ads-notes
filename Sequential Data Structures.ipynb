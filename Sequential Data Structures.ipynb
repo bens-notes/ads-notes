{
 "cells": [
  {
   "cell_type": "markdown",
   "metadata": {},
   "source": [
    "# Sequentail Data Structures"
   ]
  },
  {
   "cell_type": "markdown",
   "metadata": {},
   "source": [
    "## Linked Lists\n",
    "\n",
    "Arrays are a sequence of memory cells with a fixed length, elements can be accessed quickly in terms of their rank, however expanding an array is expensive (allocate new array and copy).\n",
    "\n",
    "Each element in a singly linked list is made of two memory cells, the element itself and a pointer to the next element in the sequence. A double linked list is simular except it also has a pointer to the previous element. The advantage of linked lists is they are cheap to expand (allocate new element, change a few pointers) however accessing an element by rank is slower than an array."
   ]
  },
  {
   "cell_type": "markdown",
   "metadata": {
    "collapsed": true
   },
   "source": [
    "## Stacks\n",
    "\n",
    "A _stack_ is an ADT for storing a collection of elements with the following methods. Its a _LIFO_ collection, meaning the last element inserted, is the first element out.\n",
    "\n",
    "- `push(e)`: Insert `e` at the top of the stack\n",
    "- `pop()`: Remove most recently inserted element and returns it (error if empty)\n",
    "- `isEmpty()`: `true` if the stack is empty, `false` otherwise\n",
    "\n",
    "Stacks can be implemented with dynamic arrays or linked lists. In both cases all the operations are $O(1)$."
   ]
  },
  {
   "cell_type": "markdown",
   "metadata": {},
   "source": [
    "## Queue\n",
    "\n",
    "A _queue_ also stores a collection of elements, however it is a _FIFO_ collection, meaning the first element in is the first element out.\n",
    "\n",
    "- `enqueue(e)`: Inserts `e` at the rear of the queue\n",
    "- `dequeue()`: Removes the oldest inserted element and returns it (error if empty)\n",
    "- `isEmpty()`: Returns `true` if the queue is empty, `false` otherwise\n",
    "\n",
    "Queues can also be implemented with dynamic arrays or linked lists. Again, in both cases all the operations are $O(1)$."
   ]
  },
  {
   "cell_type": "markdown",
   "metadata": {},
   "source": [
    "## Vector\n",
    "\n",
    " A vector is an ADT for storing a sequence $S$ of $n$ elements.\n",
    " \n",
    " - `elemAtRank(r)`: Return the element at rank $r$, error if $r < 0$ or $r > n - 1$\n",
    " - `replaceAtRank(r, e)`: Replace the element at rank $r$, error if $r < 0$ or $r > n - 1$\n",
    " - `insertAtRank(r, e)`: Insert a new element $e$ at rank $r$, increasing the rank of all elements following $e$, error if $r < 0$ or $r > n$\n",
    " - `removeAtRank(r)`: Remove element $e$ at rank $r$, decreasing the rank of all elements following $e$, error if $r < 0$ or $r > n - 1$\n",
    " - `size()`: Return $n$, the number of elements in $S$\n",
    " \n",
    "The easiest implementation if an array and a variable to store $n$. Thus `elemAtRank`, `replaceAtRank` and `size` have trivial implementations with $O(1)$ runtimes. `insertAtRank` and `removeAtRank` are not as simple, for example:\n",
    " \n",
    " ```\n",
    " Algorithum insertAtRank(r, e)\n",
    "     \n",
    "     for i <- n downto r + 1 do\n",
    "         A[i] <- A[i-1]\n",
    "     A[r] <- e\n",
    "     n <- n + 1\n",
    " ```\n",
    " \n",
    "If `n = A.length` then we need to reallocate the array (lets assume $O(1)$). If $r = 0$ then the for loop will run $n$ times, all other lines are constant time, thus the worst case is $O(1) + O(n) = O(n)$.\n",
    " \n",
    "A linked list implementation would be even worse since `elemAtRank` and `replaceAtRank` require iterating through the nodes, thus $O(n)$."
   ]
  },
  {
   "cell_type": "markdown",
   "metadata": {},
   "source": [
    "## Lists\n",
    "\n",
    "Lists are and ADT that reflect the propertys of a linked list.\n",
    "\n",
    "- `element(p)`: Return the element at position `p`\n",
    "- `first()`: Return the position of the first element, error if empty\n",
    "- `isEmpty()`: Return `true` if the list is empty, `false` otherwise\n",
    "- `next(p)`: Return the position of the element following the position `p`, error if `p` is the last position\n",
    "- `isLast(p)`: Return `true` if `p` is the last position, `false` otherwise\n",
    "- `replace(p, e)`: Replace the element at position `p` with `e`\n",
    "- `insertFirst(e)`: Insert `e` as the first element of the list\n",
    "- `insertAfter(p, e)`: Insert `e` after position `p`\n",
    "- `remove(p)`: Remove the element at position `p`\n",
    "\n",
    "Their is also `last()`, `previous(p)`, `isFirst(p)`, `insertLast(e)`, `insertBefore(p, e)` that are symetric to `first`, `next`, `isLast`, `insertFirst` and `insertAfter`. The most natural realization of a list is a double linked list where a position are nodes in the list.\n",
    "\n",
    "Its easy to see that all these methods have a run time of $O(1)$ since we are given a direct \"pointer\" `p`, for example\n",
    "\n",
    "```\n",
    " Algorithum insertAfter(p, e)\n",
    "     \n",
    "     create node q\n",
    "     q.element <- e\n",
    "     q.next <- p.next\n",
    "     q.previous <- p\n",
    "     p.next <- q\n",
    "     q.next.previous <- q\n",
    "```"
   ]
  },
  {
   "cell_type": "markdown",
   "metadata": {},
   "source": [
    "## Dynamic Arrays\n",
    "\n",
    "If we insert an element in an array based vector when the vector is full, we need to expand the array with the following:\n",
    "\n",
    "```\n",
    "n' <- 2(n+1)\n",
    "create new array A' of length n'\n",
    "for i = 0 to n - 1 do\n",
    "    A'[i] <- A[i]\n",
    "A <- A'\n",
    "```\n",
    "\n",
    "Clearly this is $O(n)$ since we need to copy $n$ elements, however if we let `n' <- 2(n+1)` then as more and more elements are added, the less often we need to expand the array, we can show that on average the algorithum is $O(1)$.\n",
    "\n",
    "Consider adding $m$ elements to an array based queue. Let $I(1), ..., I(m)$ denote the $m$ insertions. Most of the insertions take $\\Theta(1)$ time since they dont need to expand the array, if an insertion $I(i)$ needs to expand the array it takes $\\Theta(i)$. Let $I(i_1), ..., I(i_l)$ where $1 \\leq i_1 \\leq ... \\leq i_l \\leq m$ denote the expensive insertions. Thus the overall time is:\n",
    "\n",
    "$$\n",
    "\\sum_{j=1}^{l} \\Theta(i_j) + \\sum_{\\substack{1 \\leq i \\leq m \\\\ i \\ne i_1, ..., i_l}} \\Theta(1)\n",
    "$$\n",
    "\n",
    "Using the fact $f = \\Theta(g) \\iff f = O(g) \\text{ and } f = \\Omega(g)$\n",
    "\n",
    "$$\n",
    "\\sum_{j=1}^{l} O(i_j) + \\sum_{\\substack{1 \\leq i \\leq m \\\\ i \\ne i_1, ..., i_l}} O(1) \\leq\n",
    "\\sum_{j=1}^{l} O(i_j) + \\sum_{i = 1}^m O(1) \\leq\n",
    "\\sum_{j=1}^{l} O(i_j) + O(m)\n",
    "$$\n",
    "\n",
    "In the worst case the array starts empty and the expensive insertions occor on inserts $1, 3, 7, 15, ...$, in general $i_{j+1} = 2 i_{j} + 1$. By induction we can show $2^{j-1} \\leq i_j < 2^j$, thus:\n",
    "\n",
    "$$\n",
    "\\sum_{j=1}^{l} i_j \\leq \\sum_{j=1}^{l} 2^j = 2^{l+1} - 2\n",
    "$$\n",
    "\n",
    "Since $2^{l-1} \\leq i_l \\leq m$, it follows that $l \\leq \\lg(m) + 1$, thus\n",
    "\n",
    "$$\n",
    "2^{l+1} - 2 \\leq 2^{lg(m) + 1 + 1} - 2 = 4m - 2 = O(m)\n",
    "$$\n",
    "\n",
    "Let us now consider $\\Omega$\n",
    "\n",
    "$$\n",
    "\\sum_{j=1}^l \\Omega(i_j) + \\sum_{\\substack{1 \\leq i \\leq m \\\\ i \\ne i_1, ..., i_l}} \\Omega(1) \\geq \\sum_{\\substack{1 \\leq i \\leq m \\\\ i \\ne i_1, ..., i_l}} \\Omega(1)\n",
    "$$\n",
    "\n",
    "For any $k \\in \\mathbb{N}$ where $k \\geq 4$, the set $\\{1, 2, ..., k\\}$ contains atmost $\\frac{k}{2}$ occurances of $i_j$ hence\n",
    "\n",
    "$$\n",
    "\\sum_{\\substack{1 \\leq i \\leq m \\\\ i \\ne i_1, ..., i_l}} \\Omega(1) \\geq \\frac{m}{2} \\; \\Omega(1) = \\Omega(m)\n",
    "$$\n",
    "\n",
    "Thus the running time for $m$ insertions is $\\Theta(m)$, thus the avarage time for a single insertion is $\\Theta(1)$"
   ]
  }
 ],
 "metadata": {
  "kernelspec": {
   "display_name": "Python 3.6",
   "language": "python",
   "name": "python36"
  },
  "language_info": {
   "codemirror_mode": {
    "name": "ipython",
    "version": 3
   },
   "file_extension": ".py",
   "mimetype": "text/x-python",
   "name": "python",
   "nbconvert_exporter": "python",
   "pygments_lexer": "ipython3",
   "version": "3.6.3"
  }
 },
 "nbformat": 4,
 "nbformat_minor": 2
}
